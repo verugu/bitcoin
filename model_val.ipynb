{
 "cells": [
  {
   "cell_type": "code",
   "execution_count": 1,
   "metadata": {},
   "outputs": [],
   "source": [
    "import pandas as pd\n",
    "import numpy as np\n",
    "import torch"
   ]
  },
  {
   "cell_type": "code",
   "execution_count": 2,
   "metadata": {},
   "outputs": [],
   "source": [
    "from LSTM_model.train import LSTMNet"
   ]
  },
  {
   "cell_type": "code",
   "execution_count": 3,
   "metadata": {},
   "outputs": [],
   "source": [
    "model = LSTMNet(input_size=5, output_size=2, hidden_size=128, dropout=0.2, model_mode='label_predict', batch_first=True)"
   ]
  },
  {
   "cell_type": "code",
   "execution_count": 7,
   "metadata": {},
   "outputs": [
    {
     "data": {
      "text/plain": [
       "<All keys matched successfully>"
      ]
     },
     "execution_count": 7,
     "metadata": {},
     "output_type": "execute_result"
    }
   ],
   "source": [
    "model.load_state_dict(torch.load('LSTM_model/models/label_predict1.pth'))"
   ]
  },
  {
   "cell_type": "code",
   "execution_count": 4,
   "metadata": {},
   "outputs": [],
   "source": [
    "import LSTM_model.train as train"
   ]
  },
  {
   "cell_type": "code",
   "execution_count": 11,
   "metadata": {},
   "outputs": [],
   "source": [
    "def std_max_min(array):\n",
    "    max = np.nanmax(array)\n",
    "    min = np.nanmin(array)\n",
    "    return (array - min) / (max - min)"
   ]
  },
  {
   "cell_type": "code",
   "execution_count": 321,
   "metadata": {},
   "outputs": [],
   "source": [
    "class Moving_average():\n",
    "    def __init__(self, n_window):\n",
    "        self.n_window = n_window\n",
    "    \n",
    "    def __call__(self, rate_data, sd_idx):\n",
    "        #paddingすることで移動平均した配列をpast_numと同じ大きさ（n_windowが偶数なら1大きい）の配列にしている\n",
    "        move_average = np.pad(rate_data[: sd_idx+1], self.n_window//2, 'reflect')\n",
    "        move_average = np.convolve(move_average, np.ones(self.n_window), mode='valid')/self.n_window\n",
    "        move_average = std_max_min(move_average)\n",
    "        return move_average"
   ]
  },
  {
   "cell_type": "code",
   "execution_count": 5,
   "metadata": {},
   "outputs": [
    {
     "data": {
      "text/plain": [
       "<LSTM_model.train.Moving_average at 0x1e5cfd55460>"
      ]
     },
     "execution_count": 5,
     "metadata": {},
     "output_type": "execute_result"
    }
   ],
   "source": [
    "train.Moving_average(2)"
   ]
  },
  {
   "cell_type": "code",
   "execution_count": 6,
   "metadata": {},
   "outputs": [],
   "source": [
    "transoforms = [train.Log_scale(), train.Log_sub(), train.Moving_average(7), train.Moving_average(19)]"
   ]
  },
  {
   "cell_type": "code",
   "execution_count": 44,
   "metadata": {},
   "outputs": [],
   "source": [
    "def make_features(input, past_num, transoforms):\n",
    "    features = np.zeros([past_num, len(transoforms)+1])\n",
    "\n",
    "    features[:, 0] = std_max_min(array = input)\n",
    "    for i, transform in enumerate(transoforms):\n",
    "        features[:,i+1] = transform(input, past_num-1)\n",
    "    \n",
    "    return torch.tensor(features[None,:,:])\n"
   ]
  },
  {
   "cell_type": "code",
   "execution_count": 8,
   "metadata": {},
   "outputs": [],
   "source": [
    "rates = np.array(pd.read_csv('statics/train/rates.csv').loc[:, 'rate'])"
   ]
  },
  {
   "cell_type": "code",
   "execution_count": 66,
   "metadata": {},
   "outputs": [],
   "source": [
    "test_rate = rates[180000:150576]"
   ]
  },
  {
   "cell_type": "code",
   "execution_count": 23,
   "metadata": {},
   "outputs": [],
   "source": [
    "draw_len = 288\n",
    "start_idx = 200000"
   ]
  },
  {
   "cell_type": "code",
   "execution_count": 9,
   "metadata": {},
   "outputs": [],
   "source": [
    "import matplotlib.pyplot as plt"
   ]
  },
  {
   "cell_type": "code",
   "execution_count": 44,
   "metadata": {},
   "outputs": [
    {
     "data": {
      "text/plain": [
       "4041800.0"
      ]
     },
     "execution_count": 44,
     "metadata": {},
     "output_type": "execute_result"
    }
   ],
   "source": [
    "np.array(test_rate)[0]"
   ]
  },
  {
   "cell_type": "code",
   "execution_count": null,
   "metadata": {},
   "outputs": [],
   "source": [
    "labels = np.zeros([])"
   ]
  },
  {
   "cell_type": "code",
   "execution_count": 153,
   "metadata": {},
   "outputs": [
    {
     "data": {
      "text/plain": [
       "tensor([[0.2972, 0.7028]], grad_fn=<SoftmaxBackward0>)"
      ]
     },
     "execution_count": 153,
     "metadata": {},
     "output_type": "execute_result"
    }
   ],
   "source": [
    "test_rate = rates[150100:150676]\n",
    "input = make_features(test_rate, transoforms)\n",
    "y = model(input.float())\n",
    "y"
   ]
  },
  {
   "cell_type": "code",
   "execution_count": 154,
   "metadata": {},
   "outputs": [
    {
     "data": {
      "text/plain": [
       "False"
      ]
     },
     "execution_count": 154,
     "metadata": {},
     "output_type": "execute_result"
    }
   ],
   "source": [
    "model.training"
   ]
  },
  {
   "cell_type": "code",
   "execution_count": 63,
   "metadata": {},
   "outputs": [],
   "source": [
    "x = test_rate"
   ]
  },
  {
   "cell_type": "code",
   "execution_count": 43,
   "metadata": {},
   "outputs": [
    {
     "data": {
      "text/plain": [
       "[<LSTM_model.train.Log_scale at 0x1e5cfd55a60>,\n",
       " <LSTM_model.train.Log_sub at 0x1e5cfd55df0>,\n",
       " <LSTM_model.train.Moving_average at 0x1e5cfd55ac0>,\n",
       " <LSTM_model.train.Moving_average at 0x1e5cfd55e50>]"
      ]
     },
     "execution_count": 43,
     "metadata": {},
     "output_type": "execute_result"
    }
   ],
   "source": [
    "transoforms"
   ]
  },
  {
   "cell_type": "code",
   "execution_count": 79,
   "metadata": {},
   "outputs": [],
   "source": [
    "model = LSTMNet(input_size=5, output_size=2, hidden_size=128, dropout=0.2, model_mode='label_predict', batch_first=True)"
   ]
  },
  {
   "cell_type": "code",
   "execution_count": null,
   "metadata": {},
   "outputs": [],
   "source": [
    "'label_predict_weight0.4_kai.pth'"
   ]
  },
  {
   "cell_type": "code",
   "execution_count": 84,
   "metadata": {},
   "outputs": [
    {
     "data": {
      "image/png": "[encoded data removed]",
      "text/plain": [
       "<Figure size 432x288 with 1 Axes>"
      ]
     },
     "metadata": {
      "needs_background": "light"
     },
     "output_type": "display_data"
    }
   ],
   "source": [
    "model.load_state_dict(torch.load('LSTM_model/models/label576_weight40_60.pth'))\n",
    "model.eval()\n",
    "start = 196000\n",
    "draw_len = 1000\n",
    "past_num = 576\n",
    "y = np.arange(draw_len+2)\n",
    "x = rates[start : start+draw_len+2]\n",
    "\n",
    "for i in range(draw_len):\n",
    "    past_rate = rates[start-past_num+i+1 : start+i+1]\n",
    "    input = make_features(past_rate, past_num, transoforms[:4])\n",
    "    label = model(input.float()).data[0][0]\n",
    "    \n",
    "    plt.plot(y[i:i+2], x[i:i+2] ,color= 'blue' if (label > 0.5) else 'red')\n",
    "\n",
    "plt.show()"
   ]
  },
  {
   "cell_type": "code",
   "execution_count": 302,
   "metadata": {},
   "outputs": [
    {
     "data": {
      "text/plain": [
       "[<matplotlib.lines.Line2D at 0x12d1c079730>]"
      ]
     },
     "execution_count": 302,
     "metadata": {},
     "output_type": "execute_result"
    },
    {
     "data": {
      "image/png": "[encoded data removed]",
      "text/plain": [
       "<Figure size 432x288 with 1 Axes>"
      ]
     },
     "metadata": {
      "needs_background": "light"
     },
     "output_type": "display_data"
    }
   ],
   "source": [
    "n_window = 21\n",
    "move_average = np.pad(rates[180424: 180900], n_window//2, 'reflect')\n",
    "move_average = np.convolve(move_average, np.ones(n_window), mode='valid')/n_window\n",
    "move_average = std_max_min(move_average)\n",
    "plt.plot(move_average)"
   ]
  },
  {
   "cell_type": "code",
   "execution_count": 205,
   "metadata": {},
   "outputs": [
    {
     "data": {
      "text/plain": [
       "tensor(4)"
      ]
     },
     "execution_count": 205,
     "metadata": {},
     "output_type": "execute_result"
    }
   ],
   "source": [
    "torch.sum(a==0, axis=0)"
   ]
  },
  {
   "cell_type": "code",
   "execution_count": 73,
   "metadata": {},
   "outputs": [],
   "source": [
    "import torch.nn as nn \n",
    "criterion = nn.CrossEntropyLoss(weight=torch.tensor([0.2, 0.4, 0.4]))"
   ]
  },
  {
   "cell_type": "code",
   "execution_count": 74,
   "metadata": {},
   "outputs": [
    {
     "data": {
      "text/plain": [
       "tensor(0.3103)"
      ]
     },
     "execution_count": 74,
     "metadata": {},
     "output_type": "execute_result"
    }
   ],
   "source": [
    "criterion(torch.tensor([[1,1,2]]).float(),torch.tensor([[1,0,0]]).float())"
   ]
  },
  {
   "cell_type": "code",
   "execution_count": 76,
   "metadata": {},
   "outputs": [
    {
     "data": {
      "text/plain": [
       "tensor(0.6206)"
      ]
     },
     "execution_count": 76,
     "metadata": {},
     "output_type": "execute_result"
    }
   ],
   "source": [
    "criterion(torch.tensor([[1,2,1]]).float(),torch.tensor([[0, 0, 1]]).float())"
   ]
  },
  {
   "cell_type": "code",
   "execution_count": 227,
   "metadata": {},
   "outputs": [
    {
     "data": {
      "text/plain": [
       "tensor(0.7223)"
      ]
     },
     "execution_count": 227,
     "metadata": {},
     "output_type": "execute_result"
    }
   ],
   "source": [
    "criterion(torch.tensor([[3,2,1]]).float(),torch.tensor([[0,0,1]]).float())"
   ]
  },
  {
   "cell_type": "code",
   "execution_count": null,
   "metadata": {},
   "outputs": [],
   "source": []
  }
 ],
 "metadata": {
  "interpreter": {
   "hash": "d61fdddb906457116dec4969c817256b0e15789d44a1aa1e311de9b8aff09f01"
  },
  "kernelspec": {
   "display_name": "Python 3.8.5 64-bit ('trade': venv)",
   "language": "python",
   "name": "python3"
  },
  "language_info": {
   "codemirror_mode": {
    "name": "ipython",
    "version": 3
   },
   "file_extension": ".py",
   "mimetype": "text/x-python",
   "name": "python",
   "nbconvert_exporter": "python",
   "pygments_lexer": "ipython3",
   "version": "3.8.5"
  },
  "orig_nbformat": 4
 },
 "nbformat": 4,
 "nbformat_minor": 2
}
