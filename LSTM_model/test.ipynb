{
 "cells": [
  {
   "cell_type": "code",
   "execution_count": 2,
   "metadata": {},
   "outputs": [],
   "source": [
    "import pandas as pd\n",
    "import numpy as np"
   ]
  },
  {
   "cell_type": "code",
   "execution_count": 2,
   "metadata": {},
   "outputs": [
    {
     "data": {
      "text/plain": [
       "Timedelta('1 days 00:00:00')"
      ]
     },
     "execution_count": 2,
     "metadata": {},
     "output_type": "execute_result"
    }
   ],
   "source": [
    "pd.Timedelta(days=1)"
   ]
  },
  {
   "cell_type": "code",
   "execution_count": 3,
   "metadata": {},
   "outputs": [],
   "source": [
    "data = pd.read_csv('d:/workSpace/virtual_coin/statics/train/rates.csv')"
   ]
  },
  {
   "cell_type": "code",
   "execution_count": 29,
   "metadata": {},
   "outputs": [],
   "source": [
    "at = pd.to_datetime(a, format='%Y-%m-%dT%H:%M:%S:000Z')"
   ]
  },
  {
   "cell_type": "code",
   "execution_count": 4,
   "metadata": {},
   "outputs": [],
   "source": [
    "data['utc_timestamp'] = pd.to_datetime(data['utc_timestamp'], format='%Y-%m-%dT%H:%M:%S:000Z')"
   ]
  },
  {
   "cell_type": "code",
   "execution_count": 5,
   "metadata": {},
   "outputs": [],
   "source": [
    "df0 = data['utc_timestamp'].searchsorted(data['utc_timestamp'] - pd.Timedelta(days=1), side='right')"
   ]
  },
  {
   "cell_type": "code",
   "execution_count": 6,
   "metadata": {},
   "outputs": [],
   "source": [
    "df0 = df0[df0>0]"
   ]
  },
  {
   "cell_type": "code",
   "execution_count": 7,
   "metadata": {},
   "outputs": [
    {
     "data": {
      "text/plain": [
       "0        2020-01-01 00:00:00\n",
       "1        2020-01-01 00:05:00\n",
       "2        2020-01-01 00:10:00\n",
       "3        2020-01-01 00:15:00\n",
       "4        2020-01-01 00:20:00\n",
       "                 ...        \n",
       "210235   2021-12-30 23:35:00\n",
       "210236   2021-12-30 23:40:00\n",
       "210237   2021-12-30 23:45:00\n",
       "210238   2021-12-30 23:50:00\n",
       "210239   2021-12-30 23:55:00\n",
       "Name: utc_timestamp, Length: 210240, dtype: datetime64[ns]"
      ]
     },
     "execution_count": 7,
     "metadata": {},
     "output_type": "execute_result"
    }
   ],
   "source": [
    "data['utc_timestamp'][df0-1]"
   ]
  },
  {
   "cell_type": "code",
   "execution_count": 49,
   "metadata": {},
   "outputs": [
    {
     "data": {
      "text/plain": [
       "210528"
      ]
     },
     "execution_count": 49,
     "metadata": {},
     "output_type": "execute_result"
    }
   ],
   "source": [
    "data.shape[0]"
   ]
  },
  {
   "cell_type": "code",
   "execution_count": 14,
   "metadata": {},
   "outputs": [],
   "source": [
    "features = {'a':[1,2,3], 'b':0.5, 'c':[2,3]}"
   ]
  },
  {
   "cell_type": "code",
   "execution_count": 17,
   "metadata": {},
   "outputs": [
    {
     "data": {
      "text/plain": [
       "{'a': [1, 2, 3], 'b': 0.5, 'c': [2, 3], 'd': 3}"
      ]
     },
     "execution_count": 17,
     "metadata": {},
     "output_type": "execute_result"
    }
   ],
   "source": [
    "features"
   ]
  },
  {
   "cell_type": "code",
   "execution_count": 8,
   "metadata": {},
   "outputs": [],
   "source": [
    "df1 = pd.Series(data['utc_timestamp'][df0-1].values, index=data['utc_timestamp'][data.shape[0] - df0.shape[0]:])"
   ]
  },
  {
   "cell_type": "code",
   "execution_count": 9,
   "metadata": {},
   "outputs": [
    {
     "data": {
      "text/plain": [
       "utc_timestamp\n",
       "2020-01-02 00:00:00     780748.0\n",
       "2020-01-02 00:05:00     779680.0\n",
       "2020-01-02 00:10:00     780051.0\n",
       "2020-01-02 00:15:00     780000.0\n",
       "2020-01-02 00:20:00     780209.0\n",
       "                         ...    \n",
       "2021-12-31 23:35:00    5336891.0\n",
       "2021-12-31 23:40:00    5326618.0\n",
       "2021-12-31 23:45:00    5335098.0\n",
       "2021-12-31 23:50:00    5328587.0\n",
       "2021-12-31 23:55:00    5317320.0\n",
       "Length: 210240, dtype: float64"
      ]
     },
     "execution_count": 9,
     "metadata": {},
     "output_type": "execute_result"
    }
   ],
   "source": [
    "data2 = pd.Series(data['rate'].values, index=data['utc_timestamp'])\n",
    "data2.loc[df1.index]"
   ]
  },
  {
   "cell_type": "code",
   "execution_count": 10,
   "metadata": {},
   "outputs": [
    {
     "data": {
      "text/plain": [
       "utc_timestamp\n",
       "2020-01-01 00:00:00     779637.0\n",
       "2020-01-01 00:05:00     778512.0\n",
       "2020-01-01 00:10:00     779296.0\n",
       "2020-01-01 00:15:00     778648.0\n",
       "2020-01-01 00:20:00     778386.0\n",
       "                         ...    \n",
       "2021-12-30 23:35:00    5415129.0\n",
       "2021-12-30 23:40:00    5409831.0\n",
       "2021-12-30 23:45:00    5416195.0\n",
       "2021-12-30 23:50:00    5418952.0\n",
       "2021-12-30 23:55:00    5422066.0\n",
       "Length: 210240, dtype: float64"
      ]
     },
     "execution_count": 10,
     "metadata": {},
     "output_type": "execute_result"
    }
   ],
   "source": [
    "data2.loc[df1.values]"
   ]
  },
  {
   "cell_type": "code",
   "execution_count": 98,
   "metadata": {},
   "outputs": [],
   "source": [
    "ret = data2.loc[df1.index]/data2.loc[df1.values].values - 1"
   ]
  },
  {
   "cell_type": "code",
   "execution_count": 99,
   "metadata": {},
   "outputs": [],
   "source": [
    "ret_valality = ret.ewm(span=100).std()"
   ]
  },
  {
   "cell_type": "code",
   "execution_count": 100,
   "metadata": {},
   "outputs": [
    {
     "data": {
      "text/plain": [
       "utc_timestamp\n",
       "2020-01-02 00:00:00         NaN\n",
       "2020-01-02 00:05:00    0.000053\n",
       "2020-01-02 00:10:00    0.000289\n",
       "2020-01-02 00:15:00    0.000324\n",
       "2020-01-02 00:20:00    0.000507\n",
       "                         ...   \n",
       "2021-12-31 23:35:00    0.014510\n",
       "2021-12-31 23:40:00    0.014367\n",
       "2021-12-31 23:45:00    0.014226\n",
       "2021-12-31 23:50:00    0.014085\n",
       "2021-12-31 23:55:00    0.013949\n",
       "Length: 210240, dtype: float64"
      ]
     },
     "execution_count": 100,
     "metadata": {},
     "output_type": "execute_result"
    }
   ],
   "source": [
    "ret_valality"
   ]
  },
  {
   "cell_type": "code",
   "execution_count": 108,
   "metadata": {},
   "outputs": [
    {
     "data": {
      "text/plain": [
       "utc_timestamp\n",
       "2020-01-02 00:00:00    0.001425\n",
       "2020-01-02 00:05:00    0.001463\n",
       "2020-01-02 00:10:00    0.001295\n",
       "2020-01-02 00:15:00    0.001409\n",
       "2020-01-02 00:20:00    0.001603\n",
       "                         ...   \n",
       "2021-12-31 23:35:00   -0.016841\n",
       "2021-12-31 23:40:00   -0.016812\n",
       "2021-12-31 23:45:00   -0.016775\n",
       "2021-12-31 23:50:00   -0.016773\n",
       "2021-12-31 23:55:00   -0.016824\n",
       "Length: 210240, dtype: float64"
      ]
     },
     "execution_count": 108,
     "metadata": {},
     "output_type": "execute_result"
    }
   ],
   "source": [
    "ret.ewm(span=100).mean()"
   ]
  },
  {
   "cell_type": "code",
   "execution_count": 109,
   "metadata": {},
   "outputs": [
    {
     "data": {
      "text/plain": [
       "utc_timestamp\n",
       "2020-01-02 00:00:00    0.001425\n",
       "2020-01-02 00:05:00    0.001500\n",
       "2020-01-02 00:10:00    0.000969\n",
       "2020-01-02 00:15:00    0.001736\n",
       "2020-01-02 00:20:00    0.002342\n",
       "                         ...   \n",
       "2021-12-31 23:35:00   -0.014448\n",
       "2021-12-31 23:40:00   -0.015382\n",
       "2021-12-31 23:45:00   -0.014973\n",
       "2021-12-31 23:50:00   -0.016676\n",
       "2021-12-31 23:55:00   -0.019318\n",
       "Length: 210240, dtype: float64"
      ]
     },
     "execution_count": 109,
     "metadata": {},
     "output_type": "execute_result"
    }
   ],
   "source": [
    "ret"
   ]
  },
  {
   "cell_type": "code",
   "execution_count": 110,
   "metadata": {},
   "outputs": [],
   "source": [
    "x1 = ((0.001425-0.001463)**2)*99/101\n",
    "x2 = ((0.001500-0.001463)**2)*((99/101)**2)\n",
    "weight = 99/101 + (99/101)**2"
   ]
  },
  {
   "cell_type": "code",
   "execution_count": 111,
   "metadata": {},
   "outputs": [
    {
     "data": {
      "text/plain": [
       "1.4068749999999994e-09"
      ]
     },
     "execution_count": 111,
     "metadata": {},
     "output_type": "execute_result"
    }
   ],
   "source": [
    "(x1+x2)/weight"
   ]
  },
  {
   "cell_type": "code",
   "execution_count": null,
   "metadata": {},
   "outputs": [],
   "source": []
  }
 ],
 "metadata": {
  "interpreter": {
   "hash": "d61fdddb906457116dec4969c817256b0e15789d44a1aa1e311de9b8aff09f01"
  },
  "kernelspec": {
   "display_name": "Python 3.8.5 64-bit ('trade': venv)",
   "language": "python",
   "name": "python3"
  },
  "language_info": {
   "codemirror_mode": {
    "name": "ipython",
    "version": 3
   },
   "file_extension": ".py",
   "mimetype": "text/x-python",
   "name": "python",
   "nbconvert_exporter": "python",
   "pygments_lexer": "ipython3",
   "version": "3.8.5"
  },
  "orig_nbformat": 4
 },
 "nbformat": 4,
 "nbformat_minor": 2
}
