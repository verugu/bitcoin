{
 "cells": [
  {
   "cell_type": "code",
   "execution_count": 5,
   "metadata": {},
   "outputs": [],
   "source": [
    "import requests\n",
    "import json"
   ]
  },
  {
   "cell_type": "code",
   "execution_count": 1,
   "metadata": {},
   "outputs": [
    {
     "data": {
      "text/plain": [
       "'d:\\\\workSpace\\\\virtual_coin'"
      ]
     },
     "execution_count": 1,
     "metadata": {},
     "output_type": "execute_result"
    }
   ],
   "source": [
    "import os\n",
    "os.getcwd()"
   ]
  },
  {
   "cell_type": "code",
   "execution_count": 2,
   "metadata": {},
   "outputs": [
    {
     "ename": "FileNotFoundError",
     "evalue": "[WinError 3] 指定されたパスが見つかりません。: 'statics/btc_jpy/2019/test.csv'",
     "output_type": "error",
     "traceback": [
      "\u001b[1;31m---------------------------------------------------------------------------\u001b[0m",
      "\u001b[1;31mFileNotFoundError\u001b[0m                         Traceback (most recent call last)",
      "\u001b[1;32m~\\AppData\\Local\\Temp/ipykernel_25452/217742705.py\u001b[0m in \u001b[0;36m<module>\u001b[1;34m\u001b[0m\n\u001b[1;32m----> 1\u001b[1;33m \u001b[0mos\u001b[0m\u001b[1;33m.\u001b[0m\u001b[0mmkdir\u001b[0m\u001b[1;33m(\u001b[0m\u001b[1;34m'statics/btc_jpy/2019/test.csv'\u001b[0m\u001b[1;33m)\u001b[0m\u001b[1;33m\u001b[0m\u001b[1;33m\u001b[0m\u001b[0m\n\u001b[0m",
      "\u001b[1;31mFileNotFoundError\u001b[0m: [WinError 3] 指定されたパスが見つかりません。: 'statics/btc_jpy/2019/test.csv'"
     ]
    }
   ],
   "source": [
    "os.mkdir('statics/btc_jpy/2019/test.csv')"
   ]
  },
  {
   "cell_type": "code",
   "execution_count": 11,
   "metadata": {},
   "outputs": [],
   "source": [
    "base_url = 'https://coincheck.com/'\n",
    "ticker_url = base_url + 'api/ticker'\n",
    "books_url = base_url + 'api/order_books'\n",
    "trade_url = base_url + 'api/trades'\n",
    "rate_url = base_url + 'api/exchange/orders/rate'"
   ]
  },
  {
   "cell_type": "code",
   "execution_count": 14,
   "metadata": {},
   "outputs": [],
   "source": [
    "rate_data = requests.get(rate_url, params={'pair':'btc_jpy', 'limit':100}).json()"
   ]
  },
  {
   "cell_type": "code",
   "execution_count": 15,
   "metadata": {},
   "outputs": [
    {
     "data": {
      "text/plain": [
       "{'success': False, 'error': 'order_type, pair are required'}"
      ]
     },
     "execution_count": 15,
     "metadata": {},
     "output_type": "execute_result"
    }
   ],
   "source": [
    "rate_data"
   ]
  },
  {
   "cell_type": "code",
   "execution_count": 40,
   "metadata": {},
   "outputs": [],
   "source": [
    "books = requests.get(books_url).json()"
   ]
  },
  {
   "cell_type": "code",
   "execution_count": 49,
   "metadata": {},
   "outputs": [
    {
     "data": {
      "text/plain": [
       "['5621024.0', '0.0089']"
      ]
     },
     "execution_count": 49,
     "metadata": {},
     "output_type": "execute_result"
    }
   ],
   "source": [
    "books['bids'][0]"
   ]
  },
  {
   "cell_type": "code",
   "execution_count": 19,
   "metadata": {},
   "outputs": [],
   "source": [
    "trades = requests.get(trade_url, params={\"pair\":\"btc_jpy\", 'limit':150}).json()"
   ]
  },
  {
   "cell_type": "code",
   "execution_count": 22,
   "metadata": {},
   "outputs": [
    {
     "data": {
      "text/plain": [
       "[{'id': 208494544,\n",
       "  'amount': '0.016',\n",
       "  'rate': '5451044.0',\n",
       "  'pair': 'btc_jpy',\n",
       "  'order_type': 'buy',\n",
       "  'created_at': '2022-01-02T03:55:27.000Z'},\n",
       " {'id': 208494543,\n",
       "  'amount': '0.03595964',\n",
       "  'rate': '5450554.0',\n",
       "  'pair': 'btc_jpy',\n",
       "  'order_type': 'buy',\n",
       "  'created_at': '2022-01-02T03:55:27.000Z'},\n",
       " {'id': 208494542,\n",
       "  'amount': '0.00348855',\n",
       "  'rate': '5449000.0',\n",
       "  'pair': 'btc_jpy',\n",
       "  'order_type': 'buy',\n",
       "  'created_at': '2022-01-02T03:55:20.000Z'},\n",
       " {'id': 208494541,\n",
       "  'amount': '0.05',\n",
       "  'rate': '5449000.0',\n",
       "  'pair': 'btc_jpy',\n",
       "  'order_type': 'sell',\n",
       "  'created_at': '2022-01-02T03:55:18.000Z'},\n",
       " {'id': 208494540,\n",
       "  'amount': '0.05322124',\n",
       "  'rate': '5449319.0',\n",
       "  'pair': 'btc_jpy',\n",
       "  'order_type': 'sell',\n",
       "  'created_at': '2022-01-02T03:54:55.000Z'},\n",
       " {'id': 208494539,\n",
       "  'amount': '0.01',\n",
       "  'rate': '5449319.0',\n",
       "  'pair': 'btc_jpy',\n",
       "  'order_type': 'sell',\n",
       "  'created_at': '2022-01-02T03:54:49.000Z'},\n",
       " {'id': 208494538,\n",
       "  'amount': '0.03',\n",
       "  'rate': '5450834.0',\n",
       "  'pair': 'btc_jpy',\n",
       "  'order_type': 'sell',\n",
       "  'created_at': '2022-01-02T03:54:24.000Z'},\n",
       " {'id': 208494537,\n",
       "  'amount': '0.02826082',\n",
       "  'rate': '5452000.0',\n",
       "  'pair': 'btc_jpy',\n",
       "  'order_type': 'sell',\n",
       "  'created_at': '2022-01-02T03:54:22.000Z'},\n",
       " {'id': 208494536,\n",
       "  'amount': '0.02596171',\n",
       "  'rate': '5453022.0',\n",
       "  'pair': 'btc_jpy',\n",
       "  'order_type': 'sell',\n",
       "  'created_at': '2022-01-02T03:54:10.000Z'},\n",
       " {'id': 208494535,\n",
       "  'amount': '0.01',\n",
       "  'rate': '5453022.0',\n",
       "  'pair': 'btc_jpy',\n",
       "  'order_type': 'sell',\n",
       "  'created_at': '2022-01-02T03:53:50.000Z'},\n",
       " {'id': 208494533,\n",
       "  'amount': '0.02037194',\n",
       "  'rate': '5453323.0',\n",
       "  'pair': 'btc_jpy',\n",
       "  'order_type': 'sell',\n",
       "  'created_at': '2022-01-02T03:53:30.000Z'},\n",
       " {'id': 208494532,\n",
       "  'amount': '0.005',\n",
       "  'rate': '5454130.0',\n",
       "  'pair': 'btc_jpy',\n",
       "  'order_type': 'buy',\n",
       "  'created_at': '2022-01-02T03:53:27.000Z'},\n",
       " {'id': 208494531,\n",
       "  'amount': '0.0105',\n",
       "  'rate': '5454000.0',\n",
       "  'pair': 'btc_jpy',\n",
       "  'order_type': 'buy',\n",
       "  'created_at': '2022-01-02T03:53:25.000Z'},\n",
       " {'id': 208494530,\n",
       "  'amount': '0.005',\n",
       "  'rate': '5454000.0',\n",
       "  'pair': 'btc_jpy',\n",
       "  'order_type': 'buy',\n",
       "  'created_at': '2022-01-02T03:53:25.000Z'},\n",
       " {'id': 208494529,\n",
       "  'amount': '0.005721',\n",
       "  'rate': '5452141.0',\n",
       "  'pair': 'btc_jpy',\n",
       "  'order_type': 'buy',\n",
       "  'created_at': '2022-01-02T03:53:18.000Z'},\n",
       " {'id': 208494528,\n",
       "  'amount': '0.01',\n",
       "  'rate': '5451481.0',\n",
       "  'pair': 'btc_jpy',\n",
       "  'order_type': 'sell',\n",
       "  'created_at': '2022-01-02T03:53:10.000Z'},\n",
       " {'id': 208494527,\n",
       "  'amount': '0.01',\n",
       "  'rate': '5453356.0',\n",
       "  'pair': 'btc_jpy',\n",
       "  'order_type': 'sell',\n",
       "  'created_at': '2022-01-02T03:53:10.000Z'},\n",
       " {'id': 208494526,\n",
       "  'amount': '0.01',\n",
       "  'rate': '5453356.0',\n",
       "  'pair': 'btc_jpy',\n",
       "  'order_type': 'sell',\n",
       "  'created_at': '2022-01-02T03:53:10.000Z'},\n",
       " {'id': 208494525,\n",
       "  'amount': '0.1955',\n",
       "  'rate': '5452954.0',\n",
       "  'pair': 'btc_jpy',\n",
       "  'order_type': 'buy',\n",
       "  'created_at': '2022-01-02T03:53:10.000Z'},\n",
       " {'id': 208494524,\n",
       "  'amount': '0.04',\n",
       "  'rate': '5452944.0',\n",
       "  'pair': 'btc_jpy',\n",
       "  'order_type': 'buy',\n",
       "  'created_at': '2022-01-02T03:53:10.000Z'},\n",
       " {'id': 208494523,\n",
       "  'amount': '0.05',\n",
       "  'rate': '5452936.0',\n",
       "  'pair': 'btc_jpy',\n",
       "  'order_type': 'buy',\n",
       "  'created_at': '2022-01-02T03:53:10.000Z'},\n",
       " {'id': 208494522,\n",
       "  'amount': '0.00797997',\n",
       "  'rate': '5452919.0',\n",
       "  'pair': 'btc_jpy',\n",
       "  'order_type': 'buy',\n",
       "  'created_at': '2022-01-02T03:53:10.000Z'},\n",
       " {'id': 208494521,\n",
       "  'amount': '0.0325269',\n",
       "  'rate': '5452906.0',\n",
       "  'pair': 'btc_jpy',\n",
       "  'order_type': 'buy',\n",
       "  'created_at': '2022-01-02T03:53:00.000Z'},\n",
       " {'id': 208494520,\n",
       "  'amount': '0.00798168',\n",
       "  'rate': '5452902.0',\n",
       "  'pair': 'btc_jpy',\n",
       "  'order_type': 'buy',\n",
       "  'created_at': '2022-01-02T03:53:00.000Z'},\n",
       " {'id': 208494519,\n",
       "  'amount': '0.00797997',\n",
       "  'rate': '5452900.0',\n",
       "  'pair': 'btc_jpy',\n",
       "  'order_type': 'buy',\n",
       "  'created_at': '2022-01-02T03:53:00.000Z'},\n",
       " {'id': 208494518,\n",
       "  'amount': '0.005',\n",
       "  'rate': '5452898.0',\n",
       "  'pair': 'btc_jpy',\n",
       "  'order_type': 'buy',\n",
       "  'created_at': '2022-01-02T03:53:00.000Z'},\n",
       " {'id': 208494517,\n",
       "  'amount': '0.01',\n",
       "  'rate': '5451400.0',\n",
       "  'pair': 'btc_jpy',\n",
       "  'order_type': 'buy',\n",
       "  'created_at': '2022-01-02T03:52:51.000Z'},\n",
       " {'id': 208494516,\n",
       "  'amount': '0.1',\n",
       "  'rate': '5451050.0',\n",
       "  'pair': 'btc_jpy',\n",
       "  'order_type': 'buy',\n",
       "  'created_at': '2022-01-02T03:52:51.000Z'},\n",
       " {'id': 208494514,\n",
       "  'amount': '0.0017811',\n",
       "  'rate': '5450668.0',\n",
       "  'pair': 'btc_jpy',\n",
       "  'order_type': 'buy',\n",
       "  'created_at': '2022-01-02T03:52:24.000Z'},\n",
       " {'id': 208494513,\n",
       "  'amount': '0.01',\n",
       "  'rate': '5449014.0',\n",
       "  'pair': 'btc_jpy',\n",
       "  'order_type': 'sell',\n",
       "  'created_at': '2022-01-02T03:52:04.000Z'},\n",
       " {'id': 208494512,\n",
       "  'amount': '0.01',\n",
       "  'rate': '5449999.0',\n",
       "  'pair': 'btc_jpy',\n",
       "  'order_type': 'buy',\n",
       "  'created_at': '2022-01-02T03:51:59.000Z'},\n",
       " {'id': 208494511,\n",
       "  'amount': '0.005',\n",
       "  'rate': '5449999.0',\n",
       "  'pair': 'btc_jpy',\n",
       "  'order_type': 'buy',\n",
       "  'created_at': '2022-01-02T03:51:59.000Z'},\n",
       " {'id': 208494510,\n",
       "  'amount': '0.04',\n",
       "  'rate': '5447273.0',\n",
       "  'pair': 'btc_jpy',\n",
       "  'order_type': 'buy',\n",
       "  'created_at': '2022-01-02T03:51:32.000Z'},\n",
       " {'id': 208494509,\n",
       "  'amount': '0.02',\n",
       "  'rate': '5447273.0',\n",
       "  'pair': 'btc_jpy',\n",
       "  'order_type': 'buy',\n",
       "  'created_at': '2022-01-02T03:51:32.000Z'},\n",
       " {'id': 208494508,\n",
       "  'amount': '0.00017813',\n",
       "  'rate': '5449997.0',\n",
       "  'pair': 'btc_jpy',\n",
       "  'order_type': 'buy',\n",
       "  'created_at': '2022-01-02T03:51:23.000Z'},\n",
       " {'id': 208494507,\n",
       "  'amount': '0.016',\n",
       "  'rate': '5448495.0',\n",
       "  'pair': 'btc_jpy',\n",
       "  'order_type': 'sell',\n",
       "  'created_at': '2022-01-02T03:51:18.000Z'},\n",
       " {'id': 208494506,\n",
       "  'amount': '0.007',\n",
       "  'rate': '5449107.0',\n",
       "  'pair': 'btc_jpy',\n",
       "  'order_type': 'buy',\n",
       "  'created_at': '2022-01-02T03:51:04.000Z'},\n",
       " {'id': 208494503,\n",
       "  'amount': '0.00545155',\n",
       "  'rate': '5446594.0',\n",
       "  'pair': 'btc_jpy',\n",
       "  'order_type': 'sell',\n",
       "  'created_at': '2022-01-02T03:50:53.000Z'},\n",
       " {'id': 208494501,\n",
       "  'amount': '0.00572124',\n",
       "  'rate': '5449514.0',\n",
       "  'pair': 'btc_jpy',\n",
       "  'order_type': 'buy',\n",
       "  'created_at': '2022-01-02T03:50:37.000Z'},\n",
       " {'id': 208494500,\n",
       "  'amount': '0.016',\n",
       "  'rate': '5448885.0',\n",
       "  'pair': 'btc_jpy',\n",
       "  'order_type': 'buy',\n",
       "  'created_at': '2022-01-02T03:50:37.000Z'},\n",
       " {'id': 208494499,\n",
       "  'amount': '0.015',\n",
       "  'rate': '5448885.0',\n",
       "  'pair': 'btc_jpy',\n",
       "  'order_type': 'buy',\n",
       "  'created_at': '2022-01-02T03:50:37.000Z'},\n",
       " {'id': 208494498,\n",
       "  'amount': '0.0165',\n",
       "  'rate': '5448884.0',\n",
       "  'pair': 'btc_jpy',\n",
       "  'order_type': 'buy',\n",
       "  'created_at': '2022-01-02T03:50:37.000Z'},\n",
       " {'id': 208494496,\n",
       "  'amount': '0.00999564',\n",
       "  'rate': '5448332.0',\n",
       "  'pair': 'btc_jpy',\n",
       "  'order_type': 'buy',\n",
       "  'created_at': '2022-01-02T03:50:22.000Z'},\n",
       " {'id': 208494495,\n",
       "  'amount': '0.0019',\n",
       "  'rate': '5445958.0',\n",
       "  'pair': 'btc_jpy',\n",
       "  'order_type': 'sell',\n",
       "  'created_at': '2022-01-02T03:49:09.000Z'},\n",
       " {'id': 208494494,\n",
       "  'amount': '0.02',\n",
       "  'rate': '5446709.0',\n",
       "  'pair': 'btc_jpy',\n",
       "  'order_type': 'sell',\n",
       "  'created_at': '2022-01-02T03:49:08.000Z'},\n",
       " {'id': 208494493,\n",
       "  'amount': '0.01835894',\n",
       "  'rate': '5446937.0',\n",
       "  'pair': 'btc_jpy',\n",
       "  'order_type': 'buy',\n",
       "  'created_at': '2022-01-02T03:49:00.000Z'},\n",
       " {'id': 208494492,\n",
       "  'amount': '0.02039887',\n",
       "  'rate': '5446125.0',\n",
       "  'pair': 'btc_jpy',\n",
       "  'order_type': 'buy',\n",
       "  'created_at': '2022-01-02T03:48:43.000Z'},\n",
       " {'id': 208494491,\n",
       "  'amount': '0.08',\n",
       "  'rate': '5443655.0',\n",
       "  'pair': 'btc_jpy',\n",
       "  'order_type': 'buy',\n",
       "  'created_at': '2022-01-02T03:48:41.000Z'},\n",
       " {'id': 208494490,\n",
       "  'amount': '0.00615008',\n",
       "  'rate': '5442499.0',\n",
       "  'pair': 'btc_jpy',\n",
       "  'order_type': 'sell',\n",
       "  'created_at': '2022-01-02T03:48:40.000Z'},\n",
       " {'id': 208494489,\n",
       "  'amount': '0.00796992',\n",
       "  'rate': '5442501.0',\n",
       "  'pair': 'btc_jpy',\n",
       "  'order_type': 'sell',\n",
       "  'created_at': '2022-01-02T03:48:40.000Z'},\n",
       " {'id': 208494488,\n",
       "  'amount': '0.005',\n",
       "  'rate': '5442503.0',\n",
       "  'pair': 'btc_jpy',\n",
       "  'order_type': 'sell',\n",
       "  'created_at': '2022-01-02T03:48:40.000Z'},\n",
       " {'id': 208494487,\n",
       "  'amount': '0.02088',\n",
       "  'rate': '5442548.0',\n",
       "  'pair': 'btc_jpy',\n",
       "  'order_type': 'sell',\n",
       "  'created_at': '2022-01-02T03:48:40.000Z'},\n",
       " {'id': 208494486,\n",
       "  'amount': '0.005',\n",
       "  'rate': '5442800.0',\n",
       "  'pair': 'btc_jpy',\n",
       "  'order_type': 'sell',\n",
       "  'created_at': '2022-01-02T03:48:40.000Z'},\n",
       " {'id': 208494485,\n",
       "  'amount': '0.005',\n",
       "  'rate': '5443540.0',\n",
       "  'pair': 'btc_jpy',\n",
       "  'order_type': 'sell',\n",
       "  'created_at': '2022-01-02T03:48:40.000Z'},\n",
       " {'id': 208494484,\n",
       "  'amount': '0.0291',\n",
       "  'rate': '5443664.0',\n",
       "  'pair': 'btc_jpy',\n",
       "  'order_type': 'sell',\n",
       "  'created_at': '2022-01-02T03:48:35.000Z'},\n",
       " {'id': 208494483,\n",
       "  'amount': '0.0075',\n",
       "  'rate': '5446216.0',\n",
       "  'pair': 'btc_jpy',\n",
       "  'order_type': 'buy',\n",
       "  'created_at': '2022-01-02T03:48:17.000Z'},\n",
       " {'id': 208494482,\n",
       "  'amount': '0.0104',\n",
       "  'rate': '5443664.0',\n",
       "  'pair': 'btc_jpy',\n",
       "  'order_type': 'sell',\n",
       "  'created_at': '2022-01-02T03:48:12.000Z'},\n",
       " {'id': 208494481,\n",
       "  'amount': '0.0105',\n",
       "  'rate': '5443664.0',\n",
       "  'pair': 'btc_jpy',\n",
       "  'order_type': 'sell',\n",
       "  'created_at': '2022-01-02T03:48:09.000Z'},\n",
       " {'id': 208494480,\n",
       "  'amount': '0.0155',\n",
       "  'rate': '5444000.0',\n",
       "  'pair': 'btc_jpy',\n",
       "  'order_type': 'sell',\n",
       "  'created_at': '2022-01-02T03:48:07.000Z'},\n",
       " {'id': 208494479,\n",
       "  'amount': '0.01',\n",
       "  'rate': '5444300.0',\n",
       "  'pair': 'btc_jpy',\n",
       "  'order_type': 'sell',\n",
       "  'created_at': '2022-01-02T03:48:07.000Z'},\n",
       " {'id': 208494478,\n",
       "  'amount': '0.0075',\n",
       "  'rate': '5445000.0',\n",
       "  'pair': 'btc_jpy',\n",
       "  'order_type': 'sell',\n",
       "  'created_at': '2022-01-02T03:48:05.000Z'},\n",
       " {'id': 208494477,\n",
       "  'amount': '0.03039887',\n",
       "  'rate': '5445000.0',\n",
       "  'pair': 'btc_jpy',\n",
       "  'order_type': 'sell',\n",
       "  'created_at': '2022-01-02T03:48:05.000Z'},\n",
       " {'id': 208494476,\n",
       "  'amount': '0.005',\n",
       "  'rate': '5445001.0',\n",
       "  'pair': 'btc_jpy',\n",
       "  'order_type': 'sell',\n",
       "  'created_at': '2022-01-02T03:48:05.000Z'},\n",
       " {'id': 208494475,\n",
       "  'amount': '0.1',\n",
       "  'rate': '5445050.0',\n",
       "  'pair': 'btc_jpy',\n",
       "  'order_type': 'sell',\n",
       "  'created_at': '2022-01-02T03:48:05.000Z'},\n",
       " {'id': 208494474,\n",
       "  'amount': '0.00960113',\n",
       "  'rate': '5445000.0',\n",
       "  'pair': 'btc_jpy',\n",
       "  'order_type': 'sell',\n",
       "  'created_at': '2022-01-02T03:47:45.000Z'},\n",
       " {'id': 208494473,\n",
       "  'amount': '0.01',\n",
       "  'rate': '5445000.0',\n",
       "  'pair': 'btc_jpy',\n",
       "  'order_type': 'sell',\n",
       "  'created_at': '2022-01-02T03:47:45.000Z'},\n",
       " {'id': 208494472,\n",
       "  'amount': '0.005',\n",
       "  'rate': '5445000.0',\n",
       "  'pair': 'btc_jpy',\n",
       "  'order_type': 'sell',\n",
       "  'created_at': '2022-01-02T03:47:45.000Z'},\n",
       " {'id': 208494471,\n",
       "  'amount': '0.005',\n",
       "  'rate': '5445001.0',\n",
       "  'pair': 'btc_jpy',\n",
       "  'order_type': 'sell',\n",
       "  'created_at': '2022-01-02T03:47:45.000Z'},\n",
       " {'id': 208494470,\n",
       "  'amount': '0.02039887',\n",
       "  'rate': '5445217.0',\n",
       "  'pair': 'btc_jpy',\n",
       "  'order_type': 'sell',\n",
       "  'created_at': '2022-01-02T03:47:45.000Z'},\n",
       " {'id': 208494469,\n",
       "  'amount': '0.005',\n",
       "  'rate': '5445001.0',\n",
       "  'pair': 'btc_jpy',\n",
       "  'order_type': 'sell',\n",
       "  'created_at': '2022-01-02T03:47:26.000Z'},\n",
       " {'id': 208494468,\n",
       "  'amount': '0.005',\n",
       "  'rate': '5445001.0',\n",
       "  'pair': 'btc_jpy',\n",
       "  'order_type': 'sell',\n",
       "  'created_at': '2022-01-02T03:47:26.000Z'},\n",
       " {'id': 208494467,\n",
       "  'amount': '0.016',\n",
       "  'rate': '5445221.0',\n",
       "  'pair': 'btc_jpy',\n",
       "  'order_type': 'sell',\n",
       "  'created_at': '2022-01-02T03:47:25.000Z'},\n",
       " {'id': 208494466,\n",
       "  'amount': '0.015',\n",
       "  'rate': '5445962.0',\n",
       "  'pair': 'btc_jpy',\n",
       "  'order_type': 'sell',\n",
       "  'created_at': '2022-01-02T03:47:23.000Z'},\n",
       " {'id': 208494465,\n",
       "  'amount': '0.015',\n",
       "  'rate': '5446340.0',\n",
       "  'pair': 'btc_jpy',\n",
       "  'order_type': 'sell',\n",
       "  'created_at': '2022-01-02T03:47:22.000Z'},\n",
       " {'id': 208494464,\n",
       "  'amount': '0.016',\n",
       "  'rate': '5446323.0',\n",
       "  'pair': 'btc_jpy',\n",
       "  'order_type': 'buy',\n",
       "  'created_at': '2022-01-02T03:47:22.000Z'},\n",
       " {'id': 208494463,\n",
       "  'amount': '0.008',\n",
       "  'rate': '5446317.0',\n",
       "  'pair': 'btc_jpy',\n",
       "  'order_type': 'buy',\n",
       "  'created_at': '2022-01-02T03:47:22.000Z'},\n",
       " {'id': 208494462,\n",
       "  'amount': '0.008',\n",
       "  'rate': '5446317.0',\n",
       "  'pair': 'btc_jpy',\n",
       "  'order_type': 'buy',\n",
       "  'created_at': '2022-01-02T03:47:22.000Z'},\n",
       " {'id': 208494461,\n",
       "  'amount': '0.015',\n",
       "  'rate': '5445872.0',\n",
       "  'pair': 'btc_jpy',\n",
       "  'order_type': 'buy',\n",
       "  'created_at': '2022-01-02T03:47:22.000Z'},\n",
       " {'id': 208494458,\n",
       "  'amount': '0.005',\n",
       "  'rate': '5446714.0',\n",
       "  'pair': 'btc_jpy',\n",
       "  'order_type': 'buy',\n",
       "  'created_at': '2022-01-02T03:47:15.000Z'},\n",
       " {'id': 208494457,\n",
       "  'amount': '0.01319',\n",
       "  'rate': '5446880.0',\n",
       "  'pair': 'btc_jpy',\n",
       "  'order_type': 'sell',\n",
       "  'created_at': '2022-01-02T03:47:14.000Z'},\n",
       " {'id': 208494456,\n",
       "  'amount': '0.00681',\n",
       "  'rate': '5446880.0',\n",
       "  'pair': 'btc_jpy',\n",
       "  'order_type': 'sell',\n",
       "  'created_at': '2022-01-02T03:47:13.000Z'},\n",
       " {'id': 208494455,\n",
       "  'amount': '0.01',\n",
       "  'rate': '5446900.0',\n",
       "  'pair': 'btc_jpy',\n",
       "  'order_type': 'sell',\n",
       "  'created_at': '2022-01-02T03:47:13.000Z'},\n",
       " {'id': 208494454,\n",
       "  'amount': '0.01',\n",
       "  'rate': '5447000.0',\n",
       "  'pair': 'btc_jpy',\n",
       "  'order_type': 'sell',\n",
       "  'created_at': '2022-01-02T03:47:12.000Z'},\n",
       " {'id': 208494453,\n",
       "  'amount': '0.0048',\n",
       "  'rate': '5448000.0',\n",
       "  'pair': 'btc_jpy',\n",
       "  'order_type': 'sell',\n",
       "  'created_at': '2022-01-02T03:47:09.000Z'},\n",
       " {'id': 208494452,\n",
       "  'amount': '0.0452',\n",
       "  'rate': '5448000.0',\n",
       "  'pair': 'btc_jpy',\n",
       "  'order_type': 'sell',\n",
       "  'created_at': '2022-01-02T03:47:09.000Z'},\n",
       " {'id': 208494451,\n",
       "  'amount': '0.01',\n",
       "  'rate': '5448332.0',\n",
       "  'pair': 'btc_jpy',\n",
       "  'order_type': 'sell',\n",
       "  'created_at': '2022-01-02T03:47:07.000Z'},\n",
       " {'id': 208494450,\n",
       "  'amount': '0.1',\n",
       "  'rate': '5448000.0',\n",
       "  'pair': 'btc_jpy',\n",
       "  'order_type': 'sell',\n",
       "  'created_at': '2022-01-02T03:47:06.000Z'},\n",
       " {'id': 208494449,\n",
       "  'amount': '0.00468299',\n",
       "  'rate': '5448000.0',\n",
       "  'pair': 'btc_jpy',\n",
       "  'order_type': 'sell',\n",
       "  'created_at': '2022-01-02T03:47:06.000Z'},\n",
       " {'id': 208494448,\n",
       "  'amount': '0.03019219',\n",
       "  'rate': '5448000.0',\n",
       "  'pair': 'btc_jpy',\n",
       "  'order_type': 'sell',\n",
       "  'created_at': '2022-01-02T03:47:05.000Z'},\n",
       " {'id': 208494447,\n",
       "  'amount': '0.05',\n",
       "  'rate': '5448200.0',\n",
       "  'pair': 'btc_jpy',\n",
       "  'order_type': 'sell',\n",
       "  'created_at': '2022-01-02T03:47:04.000Z'},\n",
       " {'id': 208494446,\n",
       "  'amount': '0.005',\n",
       "  'rate': '5449000.0',\n",
       "  'pair': 'btc_jpy',\n",
       "  'order_type': 'sell',\n",
       "  'created_at': '2022-01-02T03:46:56.000Z'},\n",
       " {'id': 208494445,\n",
       "  'amount': '0.007',\n",
       "  'rate': '5449077.0',\n",
       "  'pair': 'btc_jpy',\n",
       "  'order_type': 'sell',\n",
       "  'created_at': '2022-01-02T03:46:53.000Z'},\n",
       " {'id': 208494444,\n",
       "  'amount': '0.01',\n",
       "  'rate': '5449990.0',\n",
       "  'pair': 'btc_jpy',\n",
       "  'order_type': 'sell',\n",
       "  'created_at': '2022-01-02T03:46:53.000Z'},\n",
       " {'id': 208494443,\n",
       "  'amount': '0.016',\n",
       "  'rate': '5449444.0',\n",
       "  'pair': 'btc_jpy',\n",
       "  'order_type': 'buy',\n",
       "  'created_at': '2022-01-02T03:46:52.000Z'},\n",
       " {'id': 208494442,\n",
       "  'amount': '0.01238074',\n",
       "  'rate': '5449444.0',\n",
       "  'pair': 'btc_jpy',\n",
       "  'order_type': 'sell',\n",
       "  'created_at': '2022-01-02T03:46:52.000Z'},\n",
       " {'id': 208494441,\n",
       "  'amount': '0.0066037',\n",
       "  'rate': '5452891.0',\n",
       "  'pair': 'btc_jpy',\n",
       "  'order_type': 'buy',\n",
       "  'created_at': '2022-01-02T03:46:48.000Z'},\n",
       " {'id': 208494440,\n",
       "  'amount': '0.0112013',\n",
       "  'rate': '5452606.0',\n",
       "  'pair': 'btc_jpy',\n",
       "  'order_type': 'buy',\n",
       "  'created_at': '2022-01-02T03:46:48.000Z'},\n",
       " {'id': 208494439,\n",
       "  'amount': '0.00917056',\n",
       "  'rate': '5452228.0',\n",
       "  'pair': 'btc_jpy',\n",
       "  'order_type': 'buy',\n",
       "  'created_at': '2022-01-02T03:46:35.000Z'},\n",
       " {'id': 208494438,\n",
       "  'amount': '0.008',\n",
       "  'rate': '5450483.0',\n",
       "  'pair': 'btc_jpy',\n",
       "  'order_type': 'buy',\n",
       "  'created_at': '2022-01-02T03:46:27.000Z'},\n",
       " {'id': 208494437,\n",
       "  'amount': '0.02',\n",
       "  'rate': '5450000.0',\n",
       "  'pair': 'btc_jpy',\n",
       "  'order_type': 'sell',\n",
       "  'created_at': '2022-01-02T03:45:38.000Z'}]"
      ]
     },
     "execution_count": 22,
     "metadata": {},
     "output_type": "execute_result"
    }
   ],
   "source": [
    "prices = []\n",
    "for dict in trades['data']:\n"
   ]
  },
  {
   "cell_type": "code",
   "execution_count": 6,
   "metadata": {},
   "outputs": [
    {
     "name": "stdout",
     "output_type": "stream",
     "text": [
      "2021-12-30T09:20:00.000Z 5400809.0\n"
     ]
    }
   ],
   "source": [
    "rates = request.get('https://coincheck.com/ja/exchange/rates/',params={'pair':'btc_jpy', 'time':'2021-12-30T09:20:00:000Z'})\n",
    "rates_dict = ast.literal_eval(rates.text)\n",
    "print(rates_dict['time'], rates_dict['rate'])\n",
    "#時差はutc+9と変換"
   ]
  },
  {
   "cell_type": "code",
   "execution_count": 5,
   "metadata": {},
   "outputs": [],
   "source": [
    "import ast"
   ]
  },
  {
   "cell_type": "code",
   "execution_count": 29,
   "metadata": {},
   "outputs": [],
   "source": [
    "from matplotlib import pyplot as plt"
   ]
  },
  {
   "cell_type": "code",
   "execution_count": 25,
   "metadata": {},
   "outputs": [],
   "source": [
    "import pandas as pd"
   ]
  },
  {
   "cell_type": "code",
   "execution_count": 114,
   "metadata": {},
   "outputs": [],
   "source": [
    "rate_decem = pd.read_csv('statics/btc_jpy/2021/12_month.csv')"
   ]
  },
  {
   "cell_type": "code",
   "execution_count": 162,
   "metadata": {},
   "outputs": [],
   "source": [
    "y = rate_decem.loc[288*7:288*8, 'rate']\n",
    "x = rate_decem.loc[288*7:288*8, 'utc_timestamp']"
   ]
  },
  {
   "cell_type": "code",
   "execution_count": 163,
   "metadata": {},
   "outputs": [
    {
     "data": {
      "image/png": "[encoded data removed]",
      "text/plain": [
       "<Figure size 432x288 with 1 Axes>"
      ]
     },
     "metadata": {
      "needs_background": "light"
     },
     "output_type": "display_data"
    }
   ],
   "source": [
    "plt.plot(x,y)\n",
    "ticks=12\n",
    "plt.xticks(range(0, len(x), ticks), x[::ticks], rotation=90)\n",
    "plt.show()"
   ]
  },
  {
   "cell_type": "code",
   "execution_count": 54,
   "metadata": {},
   "outputs": [],
   "source": [
    "y_delta = np.ones(y.size + 1)\n",
    "y_delta[1:] = np.array(y)\n",
    "y_delta = (np.append(np.array(y),0) - y_delta)/y_delta"
   ]
  },
  {
   "cell_type": "code",
   "execution_count": 55,
   "metadata": {},
   "outputs": [
    {
     "data": {
      "image/png": "[encoded data removed]",
      "text/plain": [
       "<Figure size 432x288 with 1 Axes>"
      ]
     },
     "metadata": {
      "needs_background": "light"
     },
     "output_type": "display_data"
    }
   ],
   "source": [
    "plt.plot(x[1:],y_delta[1:289])\n",
    "ticks=30\n",
    "plt.xticks(range(0, len(x), ticks), x[::ticks], rotation=90)\n",
    "plt.show()"
   ]
  },
  {
   "cell_type": "code",
   "execution_count": 39,
   "metadata": {},
   "outputs": [],
   "source": [
    "import numpy as np"
   ]
  },
  {
   "cell_type": "code",
   "execution_count": 49,
   "metadata": {},
   "outputs": [],
   "source": [
    "#時系列データの幅を見て、階差を取っていった時の最大最小を標準化して返す。\n",
    "#nは窓幅。とりあえず24(２時間)で実験\n",
    "def delta_ret_risk(data, n_window):\n",
    "    data_len = len(data)\n",
    "    out_size = data_len-n_window\n",
    "    out_ret_risk_list = np.zeros([out_size, 2])\n",
    "    y = np.array(data)\n",
    "\n",
    "    for i in range(out_size):\n",
    "        y_window = y[i+1:n_window+i]\n",
    "        y_window_sd = (y_window-y[i])/y[i]\n",
    "        ret_max = np.nanmax(y_window_sd)\n",
    "        risk_max = np.nanmin(y_window_sd)\n",
    "        out_ret_risk_list[i] = np.array([ret_max, risk_max])\n",
    "\n",
    "    return out_ret_risk_list"
   ]
  },
  {
   "cell_type": "code",
   "execution_count": 51,
   "metadata": {},
   "outputs": [
    {
     "ename": "TypeError",
     "evalue": "unsupported operand type(s) for -: 'str' and 'str'",
     "output_type": "error",
     "traceback": [
      "\u001b[1;31m---------------------------------------------------------------------------\u001b[0m",
      "\u001b[1;31mTypeError\u001b[0m                                 Traceback (most recent call last)",
      "\u001b[1;32m~\\AppData\\Local\\Temp/ipykernel_15812/493927537.py\u001b[0m in \u001b[0;36m<module>\u001b[1;34m\u001b[0m\n\u001b[1;32m----> 1\u001b[1;33m \u001b[0mreturn_risk\u001b[0m \u001b[1;33m=\u001b[0m \u001b[0mdelta_ret_risk\u001b[0m\u001b[1;33m(\u001b[0m\u001b[0mdata\u001b[0m\u001b[1;33m,\u001b[0m \u001b[0mn_window\u001b[0m\u001b[1;33m=\u001b[0m\u001b[1;36m24\u001b[0m\u001b[1;33m)\u001b[0m\u001b[1;33m\u001b[0m\u001b[1;33m\u001b[0m\u001b[0m\n\u001b[0m",
      "\u001b[1;32m~\\AppData\\Local\\Temp/ipykernel_15812/623281969.py\u001b[0m in \u001b[0;36mdelta_ret_risk\u001b[1;34m(data, n_window)\u001b[0m\n\u001b[0;32m      9\u001b[0m     \u001b[1;32mfor\u001b[0m \u001b[0mi\u001b[0m \u001b[1;32min\u001b[0m \u001b[0mrange\u001b[0m\u001b[1;33m(\u001b[0m\u001b[0mout_size\u001b[0m\u001b[1;33m)\u001b[0m\u001b[1;33m:\u001b[0m\u001b[1;33m\u001b[0m\u001b[1;33m\u001b[0m\u001b[0m\n\u001b[0;32m     10\u001b[0m         \u001b[0my_window\u001b[0m \u001b[1;33m=\u001b[0m \u001b[0my\u001b[0m\u001b[1;33m[\u001b[0m\u001b[0mi\u001b[0m\u001b[1;33m+\u001b[0m\u001b[1;36m1\u001b[0m\u001b[1;33m:\u001b[0m\u001b[0mn_window\u001b[0m\u001b[1;33m+\u001b[0m\u001b[0mi\u001b[0m\u001b[1;33m]\u001b[0m\u001b[1;33m\u001b[0m\u001b[1;33m\u001b[0m\u001b[0m\n\u001b[1;32m---> 11\u001b[1;33m         \u001b[0my_window_sd\u001b[0m \u001b[1;33m=\u001b[0m \u001b[1;33m(\u001b[0m\u001b[0my_window\u001b[0m\u001b[1;33m-\u001b[0m\u001b[0my\u001b[0m\u001b[1;33m[\u001b[0m\u001b[0mi\u001b[0m\u001b[1;33m]\u001b[0m\u001b[1;33m)\u001b[0m\u001b[1;33m/\u001b[0m\u001b[0my\u001b[0m\u001b[1;33m[\u001b[0m\u001b[0mi\u001b[0m\u001b[1;33m]\u001b[0m\u001b[1;33m\u001b[0m\u001b[1;33m\u001b[0m\u001b[0m\n\u001b[0m\u001b[0;32m     12\u001b[0m         \u001b[0mret_max\u001b[0m \u001b[1;33m=\u001b[0m \u001b[0mnp\u001b[0m\u001b[1;33m.\u001b[0m\u001b[0mnanmax\u001b[0m\u001b[1;33m(\u001b[0m\u001b[0my_window_sd\u001b[0m\u001b[1;33m)\u001b[0m\u001b[1;33m\u001b[0m\u001b[1;33m\u001b[0m\u001b[0m\n\u001b[0;32m     13\u001b[0m         \u001b[0mrisk_max\u001b[0m \u001b[1;33m=\u001b[0m \u001b[0mnp\u001b[0m\u001b[1;33m.\u001b[0m\u001b[0mnanmin\u001b[0m\u001b[1;33m(\u001b[0m\u001b[0my_window_sd\u001b[0m\u001b[1;33m)\u001b[0m\u001b[1;33m\u001b[0m\u001b[1;33m\u001b[0m\u001b[0m\n",
      "\u001b[1;31mTypeError\u001b[0m: unsupported operand type(s) for -: 'str' and 'str'"
     ]
    }
   ],
   "source": [
    "return_risk = delta_ret_risk(data, n_window=24)"
   ]
  },
  {
   "cell_type": "code",
   "execution_count": 53,
   "metadata": {},
   "outputs": [],
   "source": [
    "import pandas as pd\n",
    "import matplotlib.pyplot as plt\n",
    "\n",
    "data = pd.read_csv('statics/train/datasets.csv')"
   ]
  },
  {
   "cell_type": "code",
   "execution_count": 60,
   "metadata": {},
   "outputs": [
    {
     "data": {
      "text/plain": [
       "array([1, 2])"
      ]
     },
     "execution_count": 60,
     "metadata": {},
     "output_type": "execute_result"
    }
   ],
   "source": []
  },
  {
   "cell_type": "code",
   "execution_count": 79,
   "metadata": {},
   "outputs": [
    {
     "data": {
      "image/png": "[encoded data removed]",
      "text/plain": [
       "<Figure size 432x288 with 1 Axes>"
      ]
     },
     "metadata": {
      "needs_background": "light"
     },
     "output_type": "display_data"
    }
   ],
   "source": [
    "start=1100\n",
    "draw_len = 288\n",
    "x = np.arange(draw_len+2)\n",
    "\n",
    "for i in range(draw_len):\n",
    "    plt.plot(x[i:i+2], np.array(data['rate'][i+start:i+start+2]), color= 'red' if (data['ret_max'][i+start]>0.003 and data['risk_max'][i+start]>-0.001) else 'blue')\n",
    "    plt.xticks(rotation=90)\n",
    "plt.show()\n",
    "\n",
    "#abs(return_risk[i][0])>abs(return_risk[i][1])"
   ]
  },
  {
   "cell_type": "code",
   "execution_count": 134,
   "metadata": {},
   "outputs": [
    {
     "data": {
      "image/png": "[encoded data removed]",
      "text/plain": [
       "<Figure size 432x288 with 1 Axes>"
      ]
     },
     "metadata": {
      "needs_background": "light"
     },
     "output_type": "display_data"
    }
   ],
   "source": [
    "start=196000\n",
    "draw_len = 1000\n",
    "x = np.arange(draw_len+2)\n",
    "\n",
    "for i in range(draw_len):\n",
    "    plt.plot(x[i:i+2], np.array(data['rate'][i+start:i+start+2]), color= 'blue' if data['ret_max'][i+start]>0.003\n",
    "                                                                                and data['risk_max'][i+start]>-0.001 else 'red')\n",
    "    plt.xticks(rotation=90)\n",
    "plt.show()\n"
   ]
  },
  {
   "cell_type": "code",
   "execution_count": 171,
   "metadata": {},
   "outputs": [],
   "source": [
    "rate_novem = pd.read_csv(btc_url+'2020/11_month.csv')\n",
    "rate_decem = pd.read_csv(btc_url+'2021/12_month.csv')"
   ]
  },
  {
   "cell_type": "code",
   "execution_count": 177,
   "metadata": {},
   "outputs": [],
   "source": []
  },
  {
   "cell_type": "code",
   "execution_count": 183,
   "metadata": {},
   "outputs": [],
   "source": [
    "for year in [2020, 2021]:\n",
    "    for day in range(1, 13):\n",
    "        csv_path = btc_url+str(year)+'/'+str(day)+'_month.csv'\n",
    "        df_temp = pd.read_csv(csv_path)\n",
    "        if year==2020 and day==1:\n",
    "            df_rates = df_temp\n",
    "        else:\n",
    "            df_rates = pd.concat([df_rates, df_temp])\n",
    "\n",
    "df_rates.to_csv('statics/train/rates.csv', index=False)\n",
    "        \n"
   ]
  },
  {
   "cell_type": "code",
   "execution_count": 222,
   "metadata": {},
   "outputs": [],
   "source": [
    "data = pd.read_csv('statics/train/rates.csv')"
   ]
  },
  {
   "cell_type": "code",
   "execution_count": 227,
   "metadata": {},
   "outputs": [
    {
     "data": {
      "text/plain": [
       "779637.0"
      ]
     },
     "execution_count": 227,
     "metadata": {},
     "output_type": "execute_result"
    }
   ],
   "source": [
    "data.loc[:,'rate']"
   ]
  },
  {
   "cell_type": "code",
   "execution_count": 210,
   "metadata": {},
   "outputs": [],
   "source": [
    "rate_ret_risk = delta_ret_risk(data['rate'], n_window=24)"
   ]
  },
  {
   "cell_type": "code",
   "execution_count": 215,
   "metadata": {},
   "outputs": [],
   "source": [
    "ret_max = np.pad(rate_ret_risk[:,0], [0,24], 'constant')\n",
    "risk_max = np.pad(rate_ret_risk[:, 1], [0, 24], 'constant')"
   ]
  },
  {
   "cell_type": "code",
   "execution_count": 216,
   "metadata": {},
   "outputs": [],
   "source": [
    "data['ret_max'] = ret_max"
   ]
  },
  {
   "cell_type": "code",
   "execution_count": 219,
   "metadata": {},
   "outputs": [],
   "source": [
    "data['risk_max'] = risk_max"
   ]
  },
  {
   "cell_type": "code",
   "execution_count": 221,
   "metadata": {},
   "outputs": [],
   "source": [
    "data.to_csv('statics/train/datasets.csv')"
   ]
  },
  {
   "cell_type": "code",
   "execution_count": 4,
   "metadata": {},
   "outputs": [],
   "source": [
    "import torch\n",
    "import numpy as np\n",
    "import pandas as pd"
   ]
  },
  {
   "cell_type": "code",
   "execution_count": 129,
   "metadata": {},
   "outputs": [],
   "source": [
    "class RateDataset(torch.utils.data.Dataset):\n",
    "    #past_numは過去何点で予測するか。predict_numはその先何点からret_max, risk_maxを算出するか\n",
    "    def __init__(self, csv_path, past_num, predict_num, n_window, train_prop, batch_size, model_mode='num_predict', transform=None):\n",
    "        self.rate_data = np.array(pd.read_csv(csv_path).loc[:, 'rate'])\n",
    "        self.data_num = self.rate_data.shape[0]\n",
    "        self.past_num = past_num\n",
    "        self.predict_num = predict_num\n",
    "        self.n_window = n_window\n",
    "        self.train_prop = train_prop\n",
    "        self.batch_size = batch_size\n",
    "        self.model_mode = model_mode\n",
    "        self.transform = transform\n",
    "\n",
    "        self.len = self.data_num-self.past_num-self.predict_num+1\n",
    "        \n",
    "\n",
    "        dataset = []\n",
    "        for idx in range(self.data_num-self.past_num-self.predict_num+1):\n",
    "            #データセット作るのに必要な範囲をまとめて抽出（ある地点からpast_num遡ったデータ群と、ret,riskのために必要な先のデータ群)\n",
    "            rate_data = self.rate_data[idx : idx+self.past_num+self.predict_num]\n",
    "            \n",
    "\n",
    "            #StandardizeとLog_scale２つを特徴量にしてみたかった。\n",
    "            if self.transform:\n",
    "                inputs = np.zeros([self.past_num+self.predict_num, len(self.transform)])\n",
    "\n",
    "                for i, transform in enumerate(self.transform):\n",
    "                #この時点でrate_dataがself.rate_dataから抽出したものであることによるindexの違いに注意\n",
    "                    rate_data_temp = transform(rate_data, self.past_num-1, self.n_window)\n",
    "                    inputs[:rate_data_temp.shape[0], i] = rate_data_temp\n",
    "            \n",
    "            rate_train = inputs[ : self.past_num, :]\n",
    "            #インデックスの終点を書いているのは、念のため24点から計算していることを保証したいから。（範囲外ならエラーくるはず）\n",
    "            #この指標はStandardizeがもとで、原則transformにはStandardizeから書くようにして、0列目がStandardizeのデータになるようにする前提\n",
    "\n",
    "            ret_risk_label = [np.nanmax(inputs[self.past_num : self.past_num+self.predict_num, 0]), np.nanmin(inputs[self.past_num : self.past_num+self.predict_num, 0])]\n",
    "\n",
    "            if self.model_mode == 'label_predict':\n",
    "                if ret_risk_label[0] >= 0.5 and ret_risk_label[1] >= -0.1:\n",
    "                    ret_risk_label = [1.0, 0.0]\n",
    "                else:\n",
    "                    ret_risk_label = [0.0, 1.0]\n",
    "            \n",
    "            dataset.append((torch.tensor(rate_train), torch.tensor(ret_risk_label)))\n",
    "        \n",
    "        self.dataset = dataset\n",
    "    \n",
    "    #こうしとけばデータの範囲があらかじめ指定できるはず\n",
    "    def __len__(self):\n",
    "        return (self.len)\n",
    "    \n",
    "    def __getitem__(self, idx):\n",
    "        #データセット作るのに必要な範囲をまとめて抽出（ある地点からpast_num遡ったデータ群と、ret,riskのために必要な先のデータ群)\n",
    "        return self.dataset[idx]\n",
    "    \n",
    "    def makeBatch(self):\n",
    "        train_size = int(self.len*self.train_prop)\n",
    "        indices = np.arange(len(self))\n",
    "        #train_set, test_set = torch.utils.data.random_split(self, [train_size, test_size])\n",
    "\n",
    "        #ある地点より過去のデータのみで学習し、testはその後のデータを用いてやるために、ランダムにはしない\n",
    "        train_set = torch.utils.data.Subset(self.dataset, indices[:train_size])\n",
    "        test_set = torch.utils.data.Subset(self.dataset, indices[train_size:])\n",
    "        \n",
    "        if self.model_mode == 'label_predict':\n",
    "            labels = [label.numpy()[0] for _,label in train_set]\n",
    "            major_idxs = np.where(labels == np.float32(0))[0]\n",
    "            minor_idxs = np.where(labels == np.float32(1))[0]\n",
    "\n",
    "            major_set = torch.utils.data.Subset(train_set, major_idxs)\n",
    "            monor_set = torch.utils.data.Sub\n",
    "            \n",
    "            #これでバッチサイズの半分をラベル０の方にしている。この後minor_setからもう半分選ぶ\n",
    "            train_major_loader = torch.utils.data.DataLoader(major_set, self.batch_size//2, shuffle=True)\n",
    "\n",
    "        #if self.model_mode == 'label_predict':\n",
    "\n",
    "        train_dataloader = torch.utils.data.DataLoader(train_set, self.batch_size, shuffle=True)\n",
    "        test_dataloader = torch.utils.data.DataLoader(test_set, self.batch_size, shuffle=False)\n",
    "\n",
    "        return train_dataloader, test_dataloader\n",
    "    \n",
    "    def get_datasize(self):\n",
    "        train_size = int(self.len*self.train_prop)\n",
    "        test_size = self.len - train_size\n",
    "\n",
    "        return train_size, test_size\n",
    "\n",
    "#なんとなく親クラスとして作ってみた。最大最小正規化を外側に書きたくなかっただけ。\n",
    "class Transform(object):\n",
    "    def __init__(self):\n",
    "        pass\n",
    "    \n",
    "    def __call__(self, rate_data, sd_idx, n_window):\n",
    "        pass\n",
    "    \n",
    "    def std_max_min(self, array):\n",
    "        max = np.nanmax(array)\n",
    "        min = np.nanmin(array)\n",
    "        return (array - min) / (max - min)\n",
    "\n",
    "#利益率\n",
    "class Standardize(Transform):\n",
    "    def __init__(self):\n",
    "        super().__init__()\n",
    "    \n",
    "    #rate_dataのどのインデックス要素を使って標準化するか\n",
    "    def __call__(self, rate_data, sd_idx, n_window):\n",
    "        rate = copy.deepcopy(rate_data)\n",
    "        rate[sd_idx+1 : ] = (rate_data[sd_idx+1 : ] - rate_data[sd_idx])*100 / rate_data[sd_idx]\n",
    "        rate[: sd_idx+1] = super().std_max_min(rate[: sd_idx+1])\n",
    "        return rate"
   ]
  },
  {
   "cell_type": "code",
   "execution_count": 130,
   "metadata": {},
   "outputs": [],
   "source": [
    "data_set = RateDataset('statics/train/datasets.csv', past_num=576, predict_num=24, train_prop=0.7, batch_size=128, n_window=7, model_mode='label_predict', transform=[Standardize()])"
   ]
  },
  {
   "cell_type": "code",
   "execution_count": 131,
   "metadata": {},
   "outputs": [],
   "source": [
    "train_dataloader, test_dataloader = data_set.makeBatch()"
   ]
  },
  {
   "cell_type": "code",
   "execution_count": 172,
   "metadata": {},
   "outputs": [],
   "source": [
    "data = data_set.dataset"
   ]
  },
  {
   "cell_type": "code",
   "execution_count": 194,
   "metadata": {},
   "outputs": [
    {
     "data": {
      "text/plain": [
       "<__main__.RateDataset at 0x2a23afdcf70>"
      ]
     },
     "execution_count": 194,
     "metadata": {},
     "output_type": "execute_result"
    }
   ],
   "source": [
    "data_set"
   ]
  },
  {
   "cell_type": "code",
   "execution_count": 159,
   "metadata": {},
   "outputs": [],
   "source": [
    "batch = next(iter(train_dataloader))"
   ]
  },
  {
   "cell_type": "code",
   "execution_count": 183,
   "metadata": {},
   "outputs": [],
   "source": [
    "labels = [label.numpy()[0] for _,label in train_set]\n",
    "major_idxs = np.where(labels == np.float32(0))[0]\n",
    "minor_idxs = np.where(labels == np.float32(1))[0]\n",
    "\n",
    "major_set = torch.utils.data.Subset(train_set, major_idxs)\n",
    "minor_set = torch.utils.data.Subset(train_set, minor_idxs)"
   ]
  },
  {
   "cell_type": "code",
   "execution_count": 271,
   "metadata": {},
   "outputs": [],
   "source": [
    "class Balanced_dataloader:\n",
    "    def __init__(self, dataset, batch_size):\n",
    "        self.dataset = dataset\n",
    "        self.features = np.array([feature.numpy() for feature, _ in self.dataset])\n",
    "        self.labels = np.array([label.numpy() for _,label in self.dataset])\n",
    "\n",
    "        labels = [label.numpy()[0] for _,label in self.dataset]\n",
    "        self.major_idxs = np.where(labels == np.float32(0))[0]\n",
    "        self.minor_idxs = np.where(labels == np.float32(1))[0]\n",
    "        \n",
    "        np.random.shuffle(self.major_idxs)\n",
    "        np.random.shuffle(self.minor_idxs)\n",
    "\n",
    "        self.batch_size = batch_size\n",
    "\n",
    "        self.used_idx = 0\n",
    "        self.count = 0\n",
    "    \n",
    "    def __iter__(self):\n",
    "        self.count = 0\n",
    "        while self.count + self.batch_size < len(self.dataset):\n",
    "            idxs = self.major_idxs[self.used_idx : self.used_idx + self.batch_size//2].tolist()\\\n",
    "                   + np.random.choice(self.minor_idxs, self.batch_size//2, replace=False).tolist()\n",
    "            \n",
    "            yield [torch.tensor(self.features[idxs]), torch.tensor(self.labels[idxs])]\n",
    "\n",
    "            self.used_idx += self.batch_size//2\n",
    "            self.count += self.batch_size\n",
    "        "
   ]
  },
  {
   "cell_type": "code",
   "execution_count": 280,
   "metadata": {},
   "outputs": [],
   "source": [
    "test_iter = Balanced_dataloader(data, 128)"
   ]
  },
  {
   "cell_type": "code",
   "execution_count": 1,
   "metadata": {},
   "outputs": [],
   "source": [
    "import numpy as np"
   ]
  },
  {
   "cell_type": "code",
   "execution_count": 4,
   "metadata": {},
   "outputs": [
    {
     "data": {
      "text/plain": [
       "array([6, 4, 5, 1])"
      ]
     },
     "execution_count": 4,
     "metadata": {},
     "output_type": "execute_result"
    }
   ],
   "source": [
    "l = [1,2,3,4,5,6,7,8]\n",
    "torch.manual_seed{0}\n",
    "np.random.choice(l,4)"
   ]
  },
  {
   "cell_type": "code",
   "execution_count": 568,
   "metadata": {},
   "outputs": [],
   "source": [
    "train_size = int(len(data_set)*0.7)\n",
    "test_size = len(data_set) - train_size\n",
    "train_set, test_set = torch.utils.data.random_split(data_set, [train_size, test_size])"
   ]
  },
  {
   "cell_type": "code",
   "execution_count": 456,
   "metadata": {},
   "outputs": [],
   "source": [
    "net,_ = rnn(x) "
   ]
  },
  {
   "cell_type": "code",
   "execution_count": 458,
   "metadata": {},
   "outputs": [],
   "source": [
    "net = linear(net[-1, :, :])"
   ]
  },
  {
   "cell_type": "code",
   "execution_count": 443,
   "metadata": {},
   "outputs": [
    {
     "name": "stderr",
     "output_type": "stream",
     "text": [
      "C:\\Users\\sator\\AppData\\Local\\Temp/ipykernel_8560/891155682.py:1: UserWarning: To copy construct from a tensor, it is recommended to use sourceTensor.clone().detach() or sourceTensor.clone().detach().requires_grad_(True), rather than torch.tensor(sourceTensor).\n",
      "  test_data = torch.tensor(test_set[0][0]).float()\n"
     ]
    }
   ],
   "source": [
    "test_data = torch.tensor(test_set[0][0]).float()"
   ]
  },
  {
   "cell_type": "code",
   "execution_count": 585,
   "metadata": {},
   "outputs": [
    {
     "data": {
      "text/plain": [
       "tensor([[ 0.0032, -0.0020],\n",
       "        [ 0.0047, -0.0005]], dtype=torch.float64)"
      ]
     },
     "execution_count": 585,
     "metadata": {},
     "output_type": "execute_result"
    }
   ],
   "source": [
    "torch.tensor([rate_ret_risk[0], rate_ret_risk[1]])"
   ]
  },
  {
   "cell_type": "code",
   "execution_count": 455,
   "metadata": {},
   "outputs": [],
   "source": [
    "x=x.float()"
   ]
  },
  {
   "cell_type": "code",
   "execution_count": 406,
   "metadata": {},
   "outputs": [],
   "source": [
    "train, test = data_set.makeBatch()"
   ]
  },
  {
   "cell_type": "code",
   "execution_count": 411,
   "metadata": {},
   "outputs": [],
   "source": [
    "batch = next(iter(train_dataloader))\n"
   ]
  },
  {
   "cell_type": "code",
   "execution_count": 418,
   "metadata": {},
   "outputs": [],
   "source": [
    "x, t = batch"
   ]
  },
  {
   "cell_type": "code",
   "execution_count": 421,
   "metadata": {},
   "outputs": [
    {
     "data": {
      "text/plain": [
       "torch.Size([32, 576])"
      ]
     },
     "execution_count": 421,
     "metadata": {},
     "output_type": "execute_result"
    }
   ],
   "source": [
    "x.size()"
   ]
  },
  {
   "cell_type": "code",
   "execution_count": 422,
   "metadata": {},
   "outputs": [
    {
     "name": "stdout",
     "output_type": "stream",
     "text": [
      "device： cuda\n"
     ]
    }
   ],
   "source": [
    "device = torch.device('cuda' if torch.cuda.is_available() else 'cpu')\n",
    "print(\"device：\", device)"
   ]
  },
  {
   "cell_type": "code",
   "execution_count": 426,
   "metadata": {},
   "outputs": [],
   "source": [
    "x = x[:,:,None].to(device)"
   ]
  },
  {
   "cell_type": "code",
   "execution_count": 5,
   "metadata": {},
   "outputs": [],
   "source": [
    "import torch.nn as nn\n",
    "import torch"
   ]
  },
  {
   "cell_type": "code",
   "execution_count": 6,
   "metadata": {},
   "outputs": [],
   "source": [
    "class LSTMNet(nn.Module):\n",
    "    def __init__(self, input_size, output_size, hidden_size, batch_first=True):\n",
    "        super(LSTMNet, self).__init__()\n",
    "        self.rnn = nn.LSTM(input_size = input_size,\n",
    "                            hidden_size = hidden_size,\n",
    "                            batch_first = batch_first)\n",
    "        self.output_layer = nn.Linear(hidden_size, output_size)\n",
    "\n",
    "        nn.init.xavier_normal_(self.rnn.weight_ih_l0)\n",
    "        nn.init.orthogonal_(self.rnn.weight_hh_l0)\n",
    "\n",
    "    def forward(self, inputs):\n",
    "        h, _= self.rnn(inputs)\n",
    "        output = self.output_layer(h[:, -1, :])\n",
    "\n",
    "        return output\n"
   ]
  },
  {
   "cell_type": "code",
   "execution_count": 8,
   "metadata": {},
   "outputs": [],
   "source": [
    "model = LSTMNet(1,2,3)"
   ]
  },
  {
   "cell_type": "code",
   "execution_count": 13,
   "metadata": {},
   "outputs": [
    {
     "data": {
      "text/plain": [
       "LSTMNet(\n",
       "  (rnn): LSTM(1, 3, batch_first=True)\n",
       "  (output_layer): Linear(in_features=3, out_features=2, bias=True)\n",
       ")"
      ]
     },
     "execution_count": 13,
     "metadata": {},
     "output_type": "execute_result"
    }
   ],
   "source": [
    "model.train()"
   ]
  },
  {
   "cell_type": "code",
   "execution_count": 44,
   "metadata": {},
   "outputs": [],
   "source": [
    "def te():\n",
    "    if 1==2:\n",
    "        return 0\n",
    "    \n",
    "    elif True:\n",
    "        return 1\n",
    "    \n",
    "    return 2"
   ]
  },
  {
   "cell_type": "code",
   "execution_count": 19,
   "metadata": {},
   "outputs": [],
   "source": [
    "a = torch.tensor([1,0, 0,0, 1, 1, 0])\n",
    "b = torch.tensor([1,1,0,1,0,1,0])"
   ]
  },
  {
   "cell_type": "code",
   "execution_count": 45,
   "metadata": {},
   "outputs": [
    {
     "data": {
      "text/plain": [
       "1"
      ]
     },
     "execution_count": 45,
     "metadata": {},
     "output_type": "execute_result"
    }
   ],
   "source": [
    "te()"
   ]
  },
  {
   "cell_type": "code",
   "execution_count": 43,
   "metadata": {},
   "outputs": [
    {
     "data": {
      "text/plain": [
       "[2, [4, 3]]"
      ]
     },
     "execution_count": 43,
     "metadata": {},
     "output_type": "execute_result"
    }
   ],
   "source": [
    "a"
   ]
  },
  {
   "cell_type": "code",
   "execution_count": 42,
   "metadata": {},
   "outputs": [
    {
     "ename": "TypeError",
     "evalue": "an integer is required (got type list)",
     "output_type": "error",
     "traceback": [
      "\u001b[1;31m---------------------------------------------------------------------------\u001b[0m",
      "\u001b[1;31mTypeError\u001b[0m                                 Traceback (most recent call last)",
      "\u001b[1;32m~\\AppData\\Local\\Temp/ipykernel_15812/196875857.py\u001b[0m in \u001b[0;36m<module>\u001b[1;34m\u001b[0m\n\u001b[1;32m----> 1\u001b[1;33m \u001b[0mtorch\u001b[0m\u001b[1;33m.\u001b[0m\u001b[0mtensor\u001b[0m\u001b[1;33m(\u001b[0m\u001b[1;33m[\u001b[0m\u001b[0ma\u001b[0m\u001b[1;33m]\u001b[0m\u001b[1;33m)\u001b[0m\u001b[1;33m\u001b[0m\u001b[1;33m\u001b[0m\u001b[0m\n\u001b[0m",
      "\u001b[1;31mTypeError\u001b[0m: an integer is required (got type list)"
     ]
    }
   ],
   "source": [
    "torch.tensor([a])"
   ]
  },
  {
   "cell_type": "code",
   "execution_count": 29,
   "metadata": {},
   "outputs": [],
   "source": [
    "model = LSTMNet(input_size=1, hidden_size=3, output_size=2, dropout=0.2).to(device)"
   ]
  },
  {
   "cell_type": "code",
   "execution_count": 30,
   "metadata": {},
   "outputs": [
    {
     "data": {
      "text/plain": [
       "<All keys matched successfully>"
      ]
     },
     "execution_count": 30,
     "metadata": {},
     "output_type": "execute_result"
    }
   ],
   "source": [
    "model.load_state_dict(torch.load('LSTM_model/models/model.pth'))"
   ]
  },
  {
   "cell_type": "code",
   "execution_count": 37,
   "metadata": {},
   "outputs": [],
   "source": [
    "ittrain = iter(train)\n",
    "ittest = iter(test)"
   ]
  },
  {
   "cell_type": "code",
   "execution_count": 40,
   "metadata": {},
   "outputs": [],
   "source": [
    "trainx, traint = next(ittrain)\n",
    "testx, testt = next(ittest)\n",
    "trainx = trainx.float().to(device)\n",
    "testx = testx.float().to(device)"
   ]
  },
  {
   "cell_type": "code",
   "execution_count": 41,
   "metadata": {},
   "outputs": [],
   "source": [
    "model.eval()\n",
    "ytrain = model(trainx)\n",
    "ytest = model(testx)"
   ]
  },
  {
   "cell_type": "code",
   "execution_count": 85,
   "metadata": {},
   "outputs": [
    {
     "data": {
      "text/plain": [
       "array([ 2, -1,  2, -1,  2, -1,  2, -1,  2, -1,  2])"
      ]
     },
     "execution_count": 85,
     "metadata": {},
     "output_type": "execute_result"
    }
   ],
   "source": [
    "l = np.array([1,3,2,4,3,5,4,6,5,7,6,8])\n",
    "np.diff(l)"
   ]
  },
  {
   "cell_type": "code",
   "execution_count": 80,
   "metadata": {},
   "outputs": [],
   "source": [
    "datalog = data_set[0][0].to('cpu').detach().numpy()"
   ]
  },
  {
   "cell_type": "code",
   "execution_count": 71,
   "metadata": {},
   "outputs": [],
   "source": [
    "import matplotlib.pyplot as plt"
   ]
  },
  {
   "cell_type": "code",
   "execution_count": 118,
   "metadata": {},
   "outputs": [
    {
     "data": {
      "text/plain": [
       "[<matplotlib.lines.Line2D at 0x1a13174faf0>]"
      ]
     },
     "execution_count": 118,
     "metadata": {},
     "output_type": "execute_result"
    },
    {
     "data": {
      "image/png": "[encoded data removed]",
      "text/plain": [
       "<Figure size 432x288 with 1 Axes>"
      ]
     },
     "metadata": {
      "needs_background": "light"
     },
     "output_type": "display_data"
    }
   ],
   "source": [
    "log_sub = np.diff(datalog, axis=0, prepend=datalog[0][0])\n",
    "plt.plot(datalog)"
   ]
  },
  {
   "cell_type": "code",
   "execution_count": 157,
   "metadata": {},
   "outputs": [
    {
     "data": {
      "text/plain": [
       "[<matplotlib.lines.Line2D at 0x1a14388cf70>]"
      ]
     },
     "execution_count": 157,
     "metadata": {},
     "output_type": "execute_result"
    },
    {
     "data": {
      "image/png": "[encoded data removed]",
      "text/plain": [
       "<Figure size 432x288 with 1 Axes>"
      ]
     },
     "metadata": {
      "needs_background": "light"
     },
     "output_type": "display_data"
    }
   ],
   "source": [
    "log_1d = datalog-0.5*log_sub\n",
    "plt.plot(log_1d)"
   ]
  },
  {
   "cell_type": "code",
   "execution_count": 148,
   "metadata": {},
   "outputs": [],
   "source": [
    "log_sub_2d = np.diff(log_1d, axis=0, prepend=log_1d[0][0])"
   ]
  },
  {
   "cell_type": "code",
   "execution_count": 149,
   "metadata": {},
   "outputs": [
    {
     "data": {
      "text/plain": [
       "[<matplotlib.lines.Line2D at 0x1a1436712e0>]"
      ]
     },
     "execution_count": 149,
     "metadata": {},
     "output_type": "execute_result"
    },
    {
     "data": {
      "image/png": "[encoded data removed]",
      "text/plain": [
       "<Figure size 432x288 with 1 Axes>"
      ]
     },
     "metadata": {
      "needs_background": "light"
     },
     "output_type": "display_data"
    }
   ],
   "source": [
    "log_2d = log_1d-0.5*log_sub_2d\n",
    "plt.plot(log_2d)"
   ]
  },
  {
   "cell_type": "code",
   "execution_count": 158,
   "metadata": {},
   "outputs": [],
   "source": [
    "def trend(data_log, n):\n",
    "    data = copy.deepcopy(data_log)\n",
    "    for i in range(n):\n",
    "        log_sub = np.diff(data, axis=0, prepend=data[0][0])\n",
    "        data = data - 0.5*log_sub\n",
    "    \n",
    "    plt.plot(data)\n",
    "    "
   ]
  },
  {
   "cell_type": "code",
   "execution_count": 203,
   "metadata": {},
   "outputs": [
    {
     "data": {
      "text/plain": [
       "[<matplotlib.lines.Line2D at 0x1a144f2a490>]"
      ]
     },
     "execution_count": 203,
     "metadata": {},
     "output_type": "execute_result"
    },
    {
     "data": {
      "image/png": "[encoded data removed]",
      "text/plain": [
       "<Figure size 432x288 with 1 Axes>"
      ]
     },
     "metadata": {
      "needs_background": "light"
     },
     "output_type": "display_data"
    }
   ],
   "source": [
    "moving_average = np.pad(datalog[:,0], 3, 'reflect')\n",
    "average = np.convolve(moving_average, np.ones(7), mode='valid')/7\n",
    "plt.plot(average)\n"
   ]
  },
  {
   "cell_type": "code",
   "execution_count": 206,
   "metadata": {},
   "outputs": [],
   "source": [
    "import torch.nn.functional as F"
   ]
  },
  {
   "cell_type": "code",
   "execution_count": 2,
   "metadata": {},
   "outputs": [
    {
     "ename": "NameError",
     "evalue": "name 'data_set' is not defined",
     "output_type": "error",
     "traceback": [
      "\u001b[1;31m---------------------------------------------------------------------------\u001b[0m",
      "\u001b[1;31mNameError\u001b[0m                                 Traceback (most recent call last)",
      "\u001b[1;32m~\\AppData\\Local\\Temp/ipykernel_19640/1042893829.py\u001b[0m in \u001b[0;36m<module>\u001b[1;34m\u001b[0m\n\u001b[1;32m----> 1\u001b[1;33m \u001b[0mdata_set\u001b[0m\u001b[1;33m[\u001b[0m\u001b[1;36m0\u001b[0m\u001b[1;33m]\u001b[0m\u001b[1;33m\u001b[0m\u001b[1;33m\u001b[0m\u001b[0m\n\u001b[0m",
      "\u001b[1;31mNameError\u001b[0m: name 'data_set' is not defined"
     ]
    }
   ],
   "source": [
    "data_set[0]"
   ]
  },
  {
   "cell_type": "code",
   "execution_count": 236,
   "metadata": {},
   "outputs": [
    {
     "data": {
      "text/plain": [
       "tensor([0, 1, 0, 0, 0, 0, 0, 0, 0, 1, 0, 0, 0, 0, 0, 0, 0, 0, 0, 0, 0, 0, 0, 0,\n",
       "        0, 0, 0, 0, 0, 0, 0, 0, 0, 0, 0, 0, 0, 0, 0, 0, 0, 0, 0, 0, 0, 0, 1, 0,\n",
       "        1, 0, 0, 0, 0, 0, 0, 0, 0, 0, 0, 1, 1, 0, 0, 0, 0, 0, 0, 1, 0, 0, 0, 0,\n",
       "        0, 0, 0, 0, 0, 0, 0, 0, 0, 0, 0, 0, 0, 0, 1, 0, 1, 0, 0, 0, 0, 0, 1, 0,\n",
       "        1, 0, 0, 0, 1, 0, 0, 0, 0, 0, 0, 1, 0, 0, 0, 0, 0, 0, 0, 0, 1, 0, 0, 0,\n",
       "        0, 0, 0, 0, 0, 1, 0, 1])"
      ]
     },
     "execution_count": 236,
     "metadata": {},
     "output_type": "execute_result"
    }
   ],
   "source": [
    "torch.max(traint.data, 1)[1]"
   ]
  },
  {
   "cell_type": "code",
   "execution_count": 232,
   "metadata": {},
   "outputs": [],
   "source": [
    "traint[:,0] = 0.0"
   ]
  },
  {
   "cell_type": "code",
   "execution_count": 240,
   "metadata": {},
   "outputs": [],
   "source": [
    "acctensor = traint == traint"
   ]
  },
  {
   "cell_type": "code",
   "execution_count": 243,
   "metadata": {},
   "outputs": [
    {
     "data": {
      "text/plain": [
       "tensor(128)"
      ]
     },
     "execution_count": 243,
     "metadata": {},
     "output_type": "execute_result"
    }
   ],
   "source": [
    "torch.sum(acctensor[:,0], axis=0)"
   ]
  },
  {
   "cell_type": "code",
   "execution_count": null,
   "metadata": {},
   "outputs": [],
   "source": []
  }
 ],
 "metadata": {
  "interpreter": {
   "hash": "d61fdddb906457116dec4969c817256b0e15789d44a1aa1e311de9b8aff09f01"
  },
  "kernelspec": {
   "display_name": "Python 3.8.5 64-bit ('trade': venv)",
   "language": "python",
   "name": "python3"
  },
  "language_info": {
   "codemirror_mode": {
    "name": "ipython",
    "version": 3
   },
   "file_extension": ".py",
   "mimetype": "text/x-python",
   "name": "python",
   "nbconvert_exporter": "python",
   "pygments_lexer": "ipython3",
   "version": "3.8.5"
  },
  "orig_nbformat": 4
 },
 "nbformat": 4,
 "nbformat_minor": 2
}
